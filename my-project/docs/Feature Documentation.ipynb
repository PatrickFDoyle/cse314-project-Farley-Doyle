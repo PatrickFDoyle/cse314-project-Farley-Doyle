{
 "cells": [
  {
   "attachments": {},
   "cell_type": "markdown",
   "metadata": {},
   "source": [
    "Title: Visualization of types of games that publishers are biased towards\n",
    "\n",
    "As a: game developer\n",
    "\n",
    "I want: a visualization of what kinds of games individual publishers favor\n",
    "\n",
    "So that: I know which publishers to approach for my game\n",
    "\n",
    "Scenario 1: You want to find a publisher\n",
    "\n",
    "Given: You are a small independent video game studio\n",
    "\n",
    "When: You have a game that you need a publisher for\n",
    "\n",
    "Then: you can refer to a visualization of trends in game types that particular publishers tend to publish to see if they are a good fit for you\n",
    "\n",
    "\n"
   ]
  },
  {
   "attachments": {},
   "cell_type": "markdown",
   "metadata": {},
   "source": [
    "Title: Average playtime of genre\n",
    "\n",
    "As a: game developer\n",
    "\n",
    "I want: To know how long people play games in this genre\n",
    "\n",
    "So that: I know how long to make my game\n",
    "\n",
    "Scenario 1: You are making an action game\n",
    "\n",
    "Given: You haven't made an action game before\n",
    "\n",
    "When: You are outlining your game \n",
    "\n",
    "Then: You can have a rough idea of how long it should be\n",
    "\n"
   ]
  },
  {
   "attachments": {},
   "cell_type": "markdown",
   "metadata": {},
   "source": [
    "Title: Average playtime of genre\n",
    "\n",
    "As a: game developer\n",
    "\n",
    "I want: To know how long people play games in this genre\n",
    "\n",
    "So that: I know how long to make my game\n",
    "\n",
    "Scenario 1: You are making an action game\n",
    "\n",
    "Given: You haven't made an action game before\n",
    "\n",
    "When: You are outlining your game \n",
    "\n",
    "Then: You can have a rough idea of how long it should be\n",
    "\n"
   ]
  },
  {
   "attachments": {},
   "cell_type": "markdown",
   "metadata": {},
   "source": [
    "Title: Reception of genre\n",
    "\n",
    "As a: game publisher\n",
    "\n",
    "I want: To know how much people like this genre\n",
    "\n",
    "So that: I can decide if I want to publish a game in this genre\n",
    "\n",
    "Scenario 1: A team approaches you with an action game\n",
    "\n",
    "Given: You don't know how well action games perform\n",
    "\n",
    "When: You are deciding to publish the game or not\n",
    "\n",
    "Then: You can consult the visualization to see the general opinion on action games\n",
    "\n"
   ]
  }
 ],
 "metadata": {
  "kernelspec": {
   "display_name": "Python 3.11.0 64-bit",
   "language": "python",
   "name": "python3"
  },
  "language_info": {
   "codemirror_mode": {
    "name": "ipython",
    "version": 3
   },
   "file_extension": ".py",
   "mimetype": "text/x-python",
   "name": "python",
   "nbconvert_exporter": "python",
   "pygments_lexer": "ipython3",
   "version": "3.11.0 (main, Nov 15 2022, 19:58:01) [GCC 10.2.1 20210110]"
  },
  "orig_nbformat": 4,
  "vscode": {
   "interpreter": {
    "hash": "949777d72b0d2535278d3dc13498b2535136f6dfe0678499012e853ee9abcab1"
   }
  }
 },
 "nbformat": 4,
 "nbformat_minor": 2
}
