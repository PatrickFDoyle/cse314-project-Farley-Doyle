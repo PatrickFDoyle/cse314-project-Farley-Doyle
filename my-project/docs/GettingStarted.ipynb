{
 "cells": [
  {
   "attachments": {},
   "cell_type": "markdown",
   "metadata": {},
   "source": [
    "## Getting Started:  \n",
    "  \n",
    "An overview of this projects documentation  \n",
    "  \n",
    "---\n",
    "\n",
    "### Instalation  \n",
    "\n",
    "See the installation guide for detailed instructions on how to install the project and dependancies.  \n",
    "  \n",
    "---\n",
    "  \n",
    "### Function Documentation  \n",
    "\n",
    "Once you have everything installed, take a moment to read over the documentation for each of the provided functions.\n",
    "\n",
    "\n",
    "\n",
    "\n"
   ]
  }
 ],
 "metadata": {
  "kernelspec": {
   "display_name": "Python 3",
   "language": "python",
   "name": "python3"
  },
  "language_info": {
   "codemirror_mode": {
    "name": "ipython",
    "version": 3
   },
   "file_extension": ".py",
   "mimetype": "text/x-python",
   "name": "python",
   "nbconvert_exporter": "python",
   "pygments_lexer": "ipython3",
   "version": "3.10.4 (main, Nov 29 2022, 20:00:25) [GCC 9.4.0]"
  },
  "orig_nbformat": 4,
  "vscode": {
   "interpreter": {
    "hash": "3ad933181bd8a04b432d3370b9dc3b0662ad032c4dfaa4e4f1596c548f763858"
   }
  }
 },
 "nbformat": 4,
 "nbformat_minor": 2
}
