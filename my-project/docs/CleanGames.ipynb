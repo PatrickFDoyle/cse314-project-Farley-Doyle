{
 "cells": [
  {
   "attachments": {},
   "cell_type": "markdown",
   "metadata": {},
   "source": [
    "This function takes no input.\n",
    "It returns nothing and creates a csv named clean_games.csv.\n",
    "The features of this file are as follows\n",
    "appid: The internal steam id for the game. This is a number\n",
    "name: The name of the game.\n",
    "\n",
    "release_date: The date he game released formatted month/day/year\n",
    "\n",
    "english: If the game is avaialable in english. Formated as 0 = no, 1=yes\n",
    "\n",
    "developer: The developer(s) of the game. This is formated as a python list. Note read csv will interpret this as a string, use apply(literal_eval) to make sure that pandas interprets it as a list\n",
    "\n",
    "publisher: The publisher(s) of the game. This is formated as a python list. Note read csv will interpret this as a string, use apply(literal_eval) to make sure that pandas interprets it as a list\n",
    "\n",
    "platforms: The platforms, Windows, Mac and Linx, that the game is available on. This is formated as a python list. Note read csv will interpret this as a string, use apply(literal_eval) to make sure that pandas interprets it as a string\n",
    "\n",
    "required_age: What age you need to view the steam store page. This number that corresponds that age.\n",
    "\n",
    "categories: The categories of the game on its steam store page, things such as single player, multiplayer etc..etc. This is formated as a python list. Note read csv will interpret this as a string, use apply(literal_eval) to make sure that pandas interprets it as a list\n",
    "\n",
    "genres: The steam defined genres of the game. This is formated as a python list. Note read csv will interpret this as a string, use apply(literal_eval) to make sure that pandas interprets it as a list\n",
    "\n",
    "achievements: The number of achievements the game has. This is a number equal to the number of achievments in the game\n",
    "\n",
    "positive_ratings: The number of positive reviews on the game. This is a number equal to the number of positive reviews on the game\n",
    "\n",
    "negative_ratings: The number of negative reviews on the game. This is a number equal to the number of negative reviews on the game\n",
    "\n",
    "average_playtime: The average playtime of the game in hours. This is a number equal to the average playtime in hours.\n",
    "\n",
    "median_playtime: The median playtime of the game in hours. This is a number equal to the median playtime in hours.\n",
    "\n",
    "owners: The number of people who own that game. This is encoded as a range. The ranges are: 0-20000, 20000-50000, 50000-100000, 100000-200000, 200000-500000, 500000-1000000, 1000000-2000000, 2000000-5000000, 5000000-10000000, 10000000-20000000, 20000000-50000000, 50000000-100000000, 100000000-200000000\n",
    "\n",
    "price: The price in USD. This is a number equal in USD, including cents\n",
    "\n",
    "tags: The top 3 user defined tags for the game. This is formated as a python list. Note read csv will interpret this as a string, use apply(literal_eval) to make sure that pandas interprets it as a list\n",
    "\n",
    "review_ratio: This is number of the ratio of positive to negative reviews. This is encoded as a number between 0,1. 0 is all negative reviews, 0.5 is neutral, and 1 is positive\n",
    "\n",
    "total_ratings: The total number of reviews the game has. This is a number equal to the total number of reviews.\n"
   ]
  }
 ],
 "metadata": {
  "kernelspec": {
   "display_name": "Python 3.11.0 64-bit",
   "language": "python",
   "name": "python3"
  },
  "language_info": {
   "codemirror_mode": {
    "name": "ipython",
    "version": 3
   },
   "file_extension": ".py",
   "mimetype": "text/x-python",
   "name": "python",
   "nbconvert_exporter": "python",
   "pygments_lexer": "ipython3",
   "version": "3.11.0 (main, Nov 15 2022, 19:58:01) [GCC 10.2.1 20210110]"
  },
  "orig_nbformat": 4,
  "vscode": {
   "interpreter": {
    "hash": "949777d72b0d2535278d3dc13498b2535136f6dfe0678499012e853ee9abcab1"
   }
  }
 },
 "nbformat": 4,
 "nbformat_minor": 2
}
