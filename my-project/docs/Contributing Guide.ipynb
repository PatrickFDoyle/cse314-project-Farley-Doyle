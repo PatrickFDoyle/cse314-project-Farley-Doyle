{
 "cells": [
  {
   "attachments": {},
   "cell_type": "markdown",
   "metadata": {},
   "source": [
    "For those who wish to contribute to the project you should first familiarize yourself with the clean_games csv file and it's features.\n",
    "\n",
    "Note that any feature that is encoded as a python list will be intepreted as a string when you read the csv, so make sure to use apply(literal_eval) to fix that. An example with genres would df.genres = df.genres.apply(literal_eval).\n",
    "\n",
    "There is nothing else to explain, so if there are correlations you'd like to explore or any visualizations not explored in this project feel free to mess around with the data set in anyway you'd like."
   ]
  }
 ],
 "metadata": {
  "kernelspec": {
   "display_name": "Python 3.11.0 64-bit",
   "language": "python",
   "name": "python3"
  },
  "language_info": {
   "codemirror_mode": {
    "name": "ipython",
    "version": 3
   },
   "file_extension": ".py",
   "mimetype": "text/x-python",
   "name": "python",
   "nbconvert_exporter": "python",
   "pygments_lexer": "ipython3",
   "version": "3.11.0 (main, Nov 15 2022, 19:58:01) [GCC 10.2.1 20210110]"
  },
  "orig_nbformat": 4,
  "vscode": {
   "interpreter": {
    "hash": "949777d72b0d2535278d3dc13498b2535136f6dfe0678499012e853ee9abcab1"
   }
  }
 },
 "nbformat": 4,
 "nbformat_minor": 2
}
